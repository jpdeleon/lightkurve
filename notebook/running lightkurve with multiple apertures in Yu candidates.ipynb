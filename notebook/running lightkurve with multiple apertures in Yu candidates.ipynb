{
 "cells": [
  {
   "cell_type": "markdown",
   "metadata": {},
   "source": [
    "# Quickstart\n",
    "* [tutorial](http://lightkurve.keplerscience.org/tutorials/1.02-target-pixel-files.html)"
   ]
  },
  {
   "cell_type": "markdown",
   "metadata": {},
   "source": [
    "To install the forked version of lightkurve with a simple patch:"
   ]
  },
  {
   "cell_type": "raw",
   "metadata": {},
   "source": [
    "!pip install -e git+git@github.com:jpdeleon/lightkurve.git@master#egg=lightkurve"
   ]
  },
  {
   "cell_type": "code",
   "execution_count": 1,
   "metadata": {
    "ExecuteTime": {
     "end_time": "2018-04-14T02:47:30.957953Z",
     "start_time": "2018-04-14T02:47:30.942353Z"
    },
    "collapsed": true
   },
   "outputs": [],
   "source": [
    "import getpass\n",
    "uname = getpass.getuser()\n",
    "\n",
    "if uname == 'prometheus' or uname == 'jp':\n",
    "    data_dir = '/home/'+uname+'/data/transit/c16-tpf/'\n",
    "elif uname == 'muscat':\n",
    "    data_dir = '../c16-tpf/'\n",
    "else: \n",
    "    data_dir = '.'"
   ]
  },
  {
   "cell_type": "code",
   "execution_count": 2,
   "metadata": {
    "ExecuteTime": {
     "end_time": "2018-04-14T02:47:32.618184Z",
     "start_time": "2018-04-14T02:47:30.964147Z"
    },
    "collapsed": true
   },
   "outputs": [],
   "source": [
    "import matplotlib.pyplot as pl\n",
    "%matplotlib inline\n",
    "\n",
    "import os\n",
    "from glob import glob\n",
    "import numpy as np\n",
    "from astropy.io import fits\n",
    "import pandas as pd"
   ]
  },
  {
   "cell_type": "code",
   "execution_count": 3,
   "metadata": {
    "ExecuteTime": {
     "end_time": "2018-04-14T02:47:32.645527Z",
     "start_time": "2018-04-14T02:47:32.621831Z"
    }
   },
   "outputs": [
    {
     "data": {
      "text/plain": [
       "31"
      ]
     },
     "execution_count": 3,
     "metadata": {},
     "output_type": "execute_result"
    }
   ],
   "source": [
    "file_list = glob(data_dir+'/Yu2018_candidates/*.fits')\n",
    "file_list.sort()\n",
    "len(file_list)"
   ]
  },
  {
   "cell_type": "code",
   "execution_count": 4,
   "metadata": {
    "ExecuteTime": {
     "end_time": "2018-04-14T02:47:33.012650Z",
     "start_time": "2018-04-14T02:47:32.650233Z"
    }
   },
   "outputs": [
    {
     "name": "stdout",
     "output_type": "stream",
     "text": [
      "Filename: /home/jp/data/transit/c16-tpf//Yu2018_candidates/ktwo251319382-unofficial-tpf.fits\n",
      "No.    Name      Ver    Type      Cards   Dimensions   Format\n",
      "  0  PRIMARY       1 PrimaryHDU      55   ()      \n",
      "  1  TARGETTABLES    1 BinTableHDU    284   3888R x 12C   [D, E, J, 156J, 156E, 156E, 156E, 156E, 156E, J, E, E]   \n",
      "  2  APERTURE      1 ImageHDU        49   (12, 13)   int32   \n"
     ]
    }
   ],
   "source": [
    "fname = file_list[-1]\n",
    "\n",
    "rec_array = fits.open(fname)\n",
    "rec_array.info()"
   ]
  },
  {
   "cell_type": "code",
   "execution_count": 5,
   "metadata": {
    "ExecuteTime": {
     "end_time": "2018-04-14T02:47:34.114192Z",
     "start_time": "2018-04-14T02:47:33.017326Z"
    },
    "collapsed": true
   },
   "outputs": [],
   "source": [
    "import sys\n",
    "sys.path.append('../K2tools')\n",
    "from utils import *"
   ]
  },
  {
   "cell_type": "code",
   "execution_count": 6,
   "metadata": {
    "ExecuteTime": {
     "end_time": "2018-04-14T02:47:34.228822Z",
     "start_time": "2018-04-14T02:47:34.116742Z"
    },
    "collapsed": true
   },
   "outputs": [],
   "source": [
    "from lightkurve import KeplerTargetPixelFile\n",
    "\n",
    "tpf = KeplerTargetPixelFile(fname, quality_bitmask='hardest')\n",
    "\n",
    "times = tpf.time\n",
    "fluxes = tpf.flux\n",
    "\n",
    "aper_rad = 4\n",
    "#masks\n",
    "irregular_mask = make_mask(fluxes,cutoff_limit=1.0,shape='irregular')\n",
    "round_mask  = make_mask(fluxes,rad=aper_rad,shape='round')\n",
    "square_mask = make_mask(fluxes,rad=aper_rad,shape='square')\n",
    "\n",
    "no_mask = make_mask(fluxes,shape='all')"
   ]
  },
  {
   "cell_type": "markdown",
   "metadata": {},
   "source": [
    "# Multiple apertures"
   ]
  },
  {
   "cell_type": "code",
   "execution_count": 7,
   "metadata": {
    "ExecuteTime": {
     "end_time": "2018-04-14T02:47:34.602818Z",
     "start_time": "2018-04-14T02:47:34.231543Z"
    }
   },
   "outputs": [
    {
     "data": {
      "image/png": "[encoded data removed]",
      "text/plain": [
       "<Figure size 432x288 with 2 Axes>"
      ]
     },
     "metadata": {},
     "output_type": "display_data"
    }
   ],
   "source": [
    "make_mask(fluxes, shape='round', rad=4, showfig=True);"
   ]
  },
  {
   "cell_type": "code",
   "execution_count": 8,
   "metadata": {
    "ExecuteTime": {
     "end_time": "2018-04-14T02:47:34.942528Z",
     "start_time": "2018-04-14T02:47:34.607345Z"
    }
   },
   "outputs": [
    {
     "data": {
      "image/png": "[encoded data removed]",
      "text/plain": [
       "<Figure size 432x288 with 2 Axes>"
      ]
     },
     "metadata": {},
     "output_type": "display_data"
    }
   ],
   "source": [
    "make_mask(fluxes, shape='irregular', rad=4, showfig=True);"
   ]
  },
  {
   "cell_type": "code",
   "execution_count": 9,
   "metadata": {
    "ExecuteTime": {
     "end_time": "2018-04-14T02:47:35.282672Z",
     "start_time": "2018-04-14T02:47:34.947379Z"
    }
   },
   "outputs": [
    {
     "data": {
      "image/png": "[encoded data removed]",
      "text/plain": [
       "<Figure size 432x288 with 2 Axes>"
      ]
     },
     "metadata": {},
     "output_type": "display_data"
    }
   ],
   "source": [
    "make_mask(fluxes, shape='square', rad=4, showfig=True);"
   ]
  },
  {
   "cell_type": "code",
   "execution_count": 10,
   "metadata": {
    "ExecuteTime": {
     "end_time": "2018-04-14T02:47:51.905104Z",
     "start_time": "2018-04-14T02:47:39.344267Z"
    }
   },
   "outputs": [
    {
     "name": "stderr",
     "output_type": "stream",
     "text": [
      "\r",
      "  0%|          | 0/51 [00:00<?, ?it/s]"
     ]
    },
    {
     "name": "stdout",
     "output_type": "stream",
     "text": [
      "Aperture photometry with r=[3 4 5] and round mask...\n",
      "\n"
     ]
    },
    {
     "name": "stderr",
     "output_type": "stream",
     "text": [
      "100%|██████████| 51/51 [00:03<00:00, 15.68it/s]\n",
      "100%|██████████| 51/51 [00:03<00:00, 13.60it/s]\n",
      "100%|██████████| 51/51 [00:05<00:00,  8.96it/s]\n"
     ]
    },
    {
     "name": "stdout",
     "output_type": "stream",
     "text": [
      "Saved: 211397844_test.fits\n"
     ]
    }
   ],
   "source": [
    "fname = file_list[0]\n",
    "radii = np.arange(3,6,1)\n",
    "shape = 'round'\n",
    "sigma = 5\n",
    "fwin  = 301\n",
    "cwin  = 51\n",
    "limit = 1.0\n",
    "order = 4\n",
    "tol   = 5.0\n",
    "save  = False\n",
    "\n",
    "flux_per_r, aper_mask = tpf2lc(fname, radii, aper_shape=shape,\n",
    "                          outlier_sigma=sigma, flat_window=fwin, corr_window=cwin,\n",
    "                          cutoff_limit=limit, polyorder=order, break_tolerance=tol,\n",
    "                          save_as_tpf=True)"
   ]
  },
  {
   "cell_type": "code",
   "execution_count": 11,
   "metadata": {
    "ExecuteTime": {
     "end_time": "2018-04-14T02:48:14.411591Z",
     "start_time": "2018-04-14T02:48:14.406356Z"
    }
   },
   "outputs": [
    {
     "data": {
      "text/plain": [
       "dict_keys([3, 4, 5])"
      ]
     },
     "execution_count": 11,
     "metadata": {},
     "output_type": "execute_result"
    }
   ],
   "source": [
    "flux_per_r.keys()"
   ]
  },
  {
   "cell_type": "code",
   "execution_count": 12,
   "metadata": {
    "ExecuteTime": {
     "end_time": "2018-04-14T02:48:15.469558Z",
     "start_time": "2018-04-14T02:48:15.463109Z"
    }
   },
   "outputs": [
    {
     "data": {
      "text/plain": [
       "(array([3262.46669148, 3263.30454375, 3262.48712679, ..., 3341.98107698,\n",
       "        3342.00151196, 3342.02194683]),\n",
       " array([1.        , 1.00019721, 1.00003833, ..., 1.00041374, 0.99986619,\n",
       "        1.00011206]),\n",
       " array([0.00391849, 0.00391334, 0.00391462, ..., 0.00432009, 0.00431705,\n",
       "        0.00431259]))"
      ]
     },
     "execution_count": 12,
     "metadata": {},
     "output_type": "execute_result"
    }
   ],
   "source": [
    "#time, flux, flux_err\n",
    "flux_per_r[3]"
   ]
  },
  {
   "cell_type": "code",
   "execution_count": 15,
   "metadata": {
    "ExecuteTime": {
     "end_time": "2018-04-14T02:49:21.092998Z",
     "start_time": "2018-04-14T02:49:20.251521Z"
    },
    "scrolled": true
   },
   "outputs": [
    {
     "data": {
      "image/png": "[encoded data removed]",
      "text/plain": [
       "<Figure size 432x288 with 1 Axes>"
      ]
     },
     "metadata": {},
     "output_type": "display_data"
    }
   ],
   "source": [
    "for i in flux_per_r:\n",
    "    t = flux_per_r[i][0]\n",
    "    f = flux_per_r[i][1]\n",
    "    ferr = flux_per_r[i][2]\n",
    "    \n",
    "    pl.errorbar(t,f,yerr=ferr,marker='o',label='r={}'.format(i))\n",
    "    pl.legend()"
   ]
  },
  {
   "cell_type": "code",
   "execution_count": 16,
   "metadata": {
    "ExecuteTime": {
     "end_time": "2018-04-14T03:05:48.103281Z",
     "start_time": "2018-04-14T02:49:37.998699Z"
    },
    "scrolled": true
   },
   "outputs": [
    {
     "name": "stderr",
     "output_type": "stream",
     "text": [
      "\r",
      "  0%|          | 0/51 [00:00<?, ?it/s]"
     ]
    },
    {
     "name": "stdout",
     "output_type": "stream",
     "text": [
      "EPIC 211397844\n",
      "Aperture photometry with r=[3 4 5] and round mask...\n",
      "\n"
     ]
    },
    {
     "name": "stderr",
     "output_type": "stream",
     "text": [
      "100%|██████████| 51/51 [00:02<00:00, 18.05it/s]\n",
      "100%|██████████| 51/51 [00:02<00:00, 17.40it/s]\n",
      "100%|██████████| 51/51 [00:02<00:00, 17.35it/s]\n",
      "  0%|          | 0/51 [00:00<?, ?it/s]"
     ]
    },
    {
     "name": "stdout",
     "output_type": "stream",
     "text": [
      "---skipping EPIC 211397844 because\n",
      "File '211397844_test.fits' already exists.\n",
      "---\n",
      "EPIC 211502222\n",
      "Aperture photometry with r=[3 4 5] and round mask...\n",
      "\n"
     ]
    },
    {
     "name": "stderr",
     "output_type": "stream",
     "text": [
      "100%|██████████| 51/51 [00:02<00:00, 18.12it/s]\n",
      "100%|██████████| 51/51 [00:02<00:00, 17.95it/s]\n",
      "100%|██████████| 51/51 [00:03<00:00, 15.11it/s]\n",
      "  0%|          | 0/51 [00:00<?, ?it/s]"
     ]
    },
    {
     "name": "stdout",
     "output_type": "stream",
     "text": [
      "Saved: 211502222_test.fits\n",
      "EPIC 211529065\n",
      "Aperture photometry with r=[3 4 5] and round mask...\n",
      "\n"
     ]
    },
    {
     "name": "stderr",
     "output_type": "stream",
     "text": [
      "100%|██████████| 51/51 [00:03<00:00, 13.60it/s]\n",
      "100%|██████████| 51/51 [00:05<00:00,  6.17it/s]\n",
      "100%|██████████| 51/51 [00:06<00:00,  8.50it/s]\n",
      "  0%|          | 0/51 [00:00<?, ?it/s]"
     ]
    },
    {
     "name": "stdout",
     "output_type": "stream",
     "text": [
      "Saved: 211529065_test.fits\n",
      "EPIC 211533633\n",
      "Aperture photometry with r=[3 4 5] and round mask...\n",
      "\n"
     ]
    },
    {
     "name": "stderr",
     "output_type": "stream",
     "text": [
      " 49%|████▉     | 25/51 [00:02<00:03,  7.49it/s]/home/jp/miniconda3/envs/astroconda35/lib/python3.6/site-packages/scipy/interpolate/interpolate.py:595: RuntimeWarning: divide by zero encountered in true_divide\n",
      "  slope = (y_hi - y_lo) / (x_hi - x_lo)[:, None]\n",
      "/home/jp/miniconda3/envs/astroconda35/lib/python3.6/site-packages/scipy/interpolate/interpolate.py:598: RuntimeWarning: invalid value encountered in multiply\n",
      "  y_new = slope*(x_new - x_lo)[:, None] + y_lo\n",
      "WARNING: Input data contains invalid values (NaNs or infs), which were automatically masked. [astropy.stats.sigma_clipping]\n",
      "/home/jp/miniconda3/envs/astroconda35/lib/python3.6/site-packages/astropy/stats/sigma_clipping.py:155: RuntimeWarning: invalid value encountered in greater\n",
      "  _filtered_data.mask |= _filtered_data > max_value\n",
      "/home/jp/miniconda3/envs/astroconda35/lib/python3.6/site-packages/astropy/stats/sigma_clipping.py:156: RuntimeWarning: invalid value encountered in less\n",
      "  _filtered_data.mask |= _filtered_data < min_value\n",
      "\n"
     ]
    },
    {
     "name": "stdout",
     "output_type": "stream",
     "text": [
      "---skipping EPIC 211533633 because\n",
      "zero-size array to reduction operation minimum which has no identity\n",
      "---\n",
      "EPIC 211552050\n",
      "Aperture photometry with r=[3 4 5] and round mask...\n",
      "\n"
     ]
    },
    {
     "name": "stderr",
     "output_type": "stream",
     "text": [
      "100%|██████████| 51/51 [00:07<00:00,  5.76it/s]\n",
      "100%|██████████| 51/51 [00:26<00:00,  5.63it/s]\n",
      "100%|██████████| 51/51 [00:09<00:00,  5.93it/s]\n"
     ]
    },
    {
     "name": "stdout",
     "output_type": "stream",
     "text": [
      "Saved: 211552050_test.fits\n",
      "EPIC 211631538\n",
      "Aperture photometry with r=[3 4 5] and round mask...\n",
      "\n"
     ]
    },
    {
     "name": "stderr",
     "output_type": "stream",
     "text": [
      "100%|██████████| 51/51 [00:11<00:00,  3.62it/s]\n",
      "100%|██████████| 51/51 [00:15<00:00,  2.76it/s]\n",
      "100%|██████████| 51/51 [00:11<00:00,  5.61it/s]\n"
     ]
    },
    {
     "name": "stdout",
     "output_type": "stream",
     "text": [
      "Saved: 211631538_test.fits\n",
      "EPIC 211638401\n",
      "Aperture photometry with r=[3 4 5] and round mask...\n",
      "\n"
     ]
    },
    {
     "name": "stderr",
     "output_type": "stream",
     "text": [
      "100%|██████████| 51/51 [00:08<00:00,  5.56it/s]\n",
      "100%|██████████| 51/51 [00:14<00:00,  5.28it/s]\n",
      "100%|██████████| 51/51 [00:11<00:00,  3.69it/s]\n"
     ]
    },
    {
     "name": "stdout",
     "output_type": "stream",
     "text": [
      "Saved: 211638401_test.fits\n",
      "EPIC 211647930\n",
      "Aperture photometry with r=[3 4 5] and round mask...\n",
      "\n"
     ]
    },
    {
     "name": "stderr",
     "output_type": "stream",
     "text": [
      "100%|██████████| 51/51 [00:09<00:00,  5.55it/s]\n",
      "100%|██████████| 51/51 [00:14<00:00,  3.61it/s]\n",
      "100%|██████████| 51/51 [00:15<00:00,  3.73it/s]\n"
     ]
    },
    {
     "name": "stdout",
     "output_type": "stream",
     "text": [
      "Saved: 211647930_test.fits\n",
      "EPIC 211649214\n",
      "Aperture photometry with r=[3 4 5] and round mask...\n",
      "\n"
     ]
    },
    {
     "name": "stderr",
     "output_type": "stream",
     "text": [
      "100%|██████████| 51/51 [00:14<00:00,  3.45it/s]\n",
      "100%|██████████| 51/51 [00:09<00:00,  6.84it/s]\n",
      "100%|██████████| 51/51 [00:11<00:00,  5.12it/s]\n"
     ]
    },
    {
     "name": "stdout",
     "output_type": "stream",
     "text": [
      "Saved: 211649214_test.fits\n",
      "EPIC 211673349\n",
      "Aperture photometry with r=[3 4 5] and round mask...\n",
      "\n"
     ]
    },
    {
     "name": "stderr",
     "output_type": "stream",
     "text": [
      "100%|██████████| 51/51 [00:09<00:00,  5.06it/s]\n",
      "100%|██████████| 51/51 [00:10<00:00,  6.55it/s]\n",
      "100%|██████████| 51/51 [00:09<00:00,  5.57it/s]\n"
     ]
    },
    {
     "name": "stdout",
     "output_type": "stream",
     "text": [
      "Saved: 211673349_test.fits\n",
      "EPIC 211730024\n",
      "Aperture photometry with r=[3 4 5] and round mask...\n",
      "\n"
     ]
    },
    {
     "name": "stderr",
     "output_type": "stream",
     "text": [
      "100%|██████████| 51/51 [00:21<00:00,  3.56it/s]\n",
      "100%|██████████| 51/51 [00:09<00:00,  6.65it/s]\n",
      "100%|██████████| 51/51 [00:07<00:00,  6.33it/s]\n"
     ]
    },
    {
     "name": "stdout",
     "output_type": "stream",
     "text": [
      "Saved: 211730024_test.fits\n",
      "EPIC 211741619\n",
      "Aperture photometry with r=[3 4 5] and round mask...\n",
      "\n"
     ]
    },
    {
     "name": "stderr",
     "output_type": "stream",
     "text": [
      "100%|██████████| 51/51 [00:06<00:00,  7.01it/s]\n",
      "100%|██████████| 51/51 [00:06<00:00,  6.51it/s]\n",
      "100%|██████████| 51/51 [00:06<00:00,  7.36it/s]\n"
     ]
    },
    {
     "name": "stdout",
     "output_type": "stream",
     "text": [
      "Saved: 211741619_test.fits\n",
      "EPIC 211812935\n",
      "Aperture photometry with r=[3 4 5] and round mask...\n",
      "\n"
     ]
    },
    {
     "name": "stderr",
     "output_type": "stream",
     "text": [
      "100%|██████████| 51/51 [00:07<00:00,  6.99it/s]\n",
      "100%|██████████| 51/51 [00:14<00:00,  2.94it/s]\n",
      "100%|██████████| 51/51 [00:12<00:00,  3.86it/s]\n"
     ]
    },
    {
     "name": "stdout",
     "output_type": "stream",
     "text": [
      "Saved: 211812935_test.fits\n",
      "EPIC 211816003\n",
      "Aperture photometry with r=[3 4 5] and round mask...\n",
      "\n"
     ]
    },
    {
     "name": "stderr",
     "output_type": "stream",
     "text": [
      "100%|██████████| 51/51 [00:10<00:00,  5.23it/s]\n",
      "100%|██████████| 51/51 [00:11<00:00,  4.05it/s]\n",
      "100%|██████████| 51/51 [00:12<00:00,  3.86it/s]\n"
     ]
    },
    {
     "name": "stdout",
     "output_type": "stream",
     "text": [
      "Saved: 211816003_test.fits\n",
      "EPIC 211919004\n",
      "Aperture photometry with r=[3 4 5] and round mask...\n",
      "\n"
     ]
    },
    {
     "name": "stderr",
     "output_type": "stream",
     "text": [
      "100%|██████████| 51/51 [00:11<00:00,  4.42it/s]\n",
      "100%|██████████| 51/51 [00:15<00:00,  4.29it/s]\n",
      "100%|██████████| 51/51 [00:15<00:00,  2.69it/s]\n"
     ]
    },
    {
     "name": "stdout",
     "output_type": "stream",
     "text": [
      "Saved: 211919004_test.fits\n",
      "EPIC 211945201\n",
      "Aperture photometry with r=[3 4 5] and round mask...\n",
      "\n"
     ]
    },
    {
     "name": "stderr",
     "output_type": "stream",
     "text": [
      "100%|██████████| 51/51 [00:12<00:00,  5.84it/s]\n",
      "100%|██████████| 51/51 [00:10<00:00,  5.28it/s]\n",
      "100%|██████████| 51/51 [00:11<00:00,  4.18it/s]\n"
     ]
    },
    {
     "name": "stdout",
     "output_type": "stream",
     "text": [
      "Saved: 211945201_test.fits\n",
      "EPIC 212036875\n",
      "Aperture photometry with r=[3 4 5] and round mask...\n",
      "\n"
     ]
    },
    {
     "name": "stderr",
     "output_type": "stream",
     "text": [
      "100%|██████████| 51/51 [00:10<00:00,  5.05it/s]\n",
      "100%|██████████| 51/51 [00:11<00:00,  4.31it/s]\n",
      "100%|██████████| 51/51 [00:14<00:00,  2.01it/s]\n"
     ]
    },
    {
     "name": "stdout",
     "output_type": "stream",
     "text": [
      "Saved: 212036875_test.fits\n",
      "EPIC 212040382\n",
      "Aperture photometry with r=[3 4 5] and round mask...\n",
      "\n"
     ]
    },
    {
     "name": "stderr",
     "output_type": "stream",
     "text": [
      "100%|██████████| 51/51 [00:11<00:00,  3.77it/s]\n",
      "100%|██████████| 51/51 [00:11<00:00,  4.64it/s]\n",
      "100%|██████████| 51/51 [00:10<00:00,  5.01it/s]\n"
     ]
    },
    {
     "name": "stdout",
     "output_type": "stream",
     "text": [
      "Saved: 212040382_test.fits\n",
      "EPIC 212041476\n",
      "Aperture photometry with r=[3 4 5] and round mask...\n",
      "\n"
     ]
    },
    {
     "name": "stderr",
     "output_type": "stream",
     "text": [
      "100%|██████████| 51/51 [00:19<00:00,  3.29it/s]\n",
      "100%|██████████| 51/51 [00:09<00:00,  6.82it/s]\n",
      "100%|██████████| 51/51 [00:08<00:00,  6.22it/s]\n"
     ]
    },
    {
     "name": "stdout",
     "output_type": "stream",
     "text": [
      "Saved: 212041476_test.fits\n",
      "EPIC 212058012\n",
      "Aperture photometry with r=[3 4 5] and round mask...\n",
      "\n"
     ]
    },
    {
     "name": "stderr",
     "output_type": "stream",
     "text": [
      "100%|██████████| 51/51 [00:08<00:00,  7.11it/s]\n",
      "100%|██████████| 51/51 [00:07<00:00,  6.23it/s]\n",
      "100%|██████████| 51/51 [00:16<00:00,  4.38it/s]\n"
     ]
    },
    {
     "name": "stdout",
     "output_type": "stream",
     "text": [
      "Saved: 212058012_test.fits\n",
      "EPIC 212069861\n",
      "Aperture photometry with r=[3 4 5] and round mask...\n",
      "\n"
     ]
    },
    {
     "name": "stderr",
     "output_type": "stream",
     "text": [
      "100%|██████████| 51/51 [00:08<00:00,  5.09it/s]\n",
      "100%|██████████| 51/51 [00:08<00:00,  5.63it/s]\n",
      "100%|██████████| 51/51 [00:08<00:00,  6.41it/s]\n"
     ]
    },
    {
     "name": "stdout",
     "output_type": "stream",
     "text": [
      "Saved: 212069861_test.fits\n",
      "EPIC 212072539\n",
      "Aperture photometry with r=[3 4 5] and round mask...\n",
      "\n"
     ]
    },
    {
     "name": "stderr",
     "output_type": "stream",
     "text": [
      "100%|██████████| 51/51 [00:08<00:00,  4.16it/s]\n",
      "100%|██████████| 51/51 [00:08<00:00,  5.51it/s]\n",
      "100%|██████████| 51/51 [00:20<00:00,  4.32it/s]\n"
     ]
    },
    {
     "name": "stdout",
     "output_type": "stream",
     "text": [
      "Saved: 212072539_test.fits\n",
      "EPIC 212081533\n",
      "Aperture photometry with r=[3 4 5] and round mask...\n",
      "\n"
     ]
    },
    {
     "name": "stderr",
     "output_type": "stream",
     "text": [
      "100%|██████████| 51/51 [00:15<00:00,  4.27it/s]\n",
      "100%|██████████| 51/51 [00:11<00:00,  5.77it/s]\n",
      "100%|██████████| 51/51 [00:08<00:00,  5.74it/s]\n"
     ]
    },
    {
     "name": "stdout",
     "output_type": "stream",
     "text": [
      "Saved: 212081533_test.fits\n",
      "EPIC 212099230\n",
      "Aperture photometry with r=[3 4 5] and round mask...\n",
      "\n"
     ]
    },
    {
     "name": "stderr",
     "output_type": "stream",
     "text": [
      "100%|██████████| 51/51 [00:09<00:00,  3.73it/s]\n",
      "100%|██████████| 51/51 [00:20<00:00,  5.66it/s]\n",
      "100%|██████████| 51/51 [00:08<00:00,  5.38it/s]\n"
     ]
    },
    {
     "name": "stdout",
     "output_type": "stream",
     "text": [
      "Saved: 212099230_test.fits\n",
      "EPIC 212110888\n",
      "Aperture photometry with r=[3 4 5] and round mask...\n",
      "\n"
     ]
    },
    {
     "name": "stderr",
     "output_type": "stream",
     "text": [
      "100%|██████████| 51/51 [00:09<00:00,  4.23it/s]\n",
      "100%|██████████| 51/51 [00:14<00:00,  3.82it/s]\n",
      "100%|██████████| 51/51 [00:10<00:00,  5.37it/s]\n"
     ]
    },
    {
     "name": "stdout",
     "output_type": "stream",
     "text": [
      "Saved: 212110888_test.fits\n",
      "EPIC 212154564\n",
      "Aperture photometry with r=[3 4 5] and round mask...\n",
      "\n"
     ]
    },
    {
     "name": "stderr",
     "output_type": "stream",
     "text": [
      "100%|██████████| 51/51 [00:10<00:00,  4.21it/s]\n",
      "100%|██████████| 51/51 [00:11<00:00,  2.87it/s]\n",
      "100%|██████████| 51/51 [00:16<00:00,  4.19it/s]\n"
     ]
    },
    {
     "name": "stdout",
     "output_type": "stream",
     "text": [
      "Saved: 212154564_test.fits\n",
      "EPIC 212178066\n",
      "Aperture photometry with r=[3 4 5] and round mask...\n",
      "\n"
     ]
    },
    {
     "name": "stderr",
     "output_type": "stream",
     "text": [
      "WARNING:root:Warning: aperture mask contains zero pixels.\n",
      "/home/jp/github/transit/lightkurve2/src/lightkurve/lightkurve/lightcurve.py:249: RuntimeWarning: invalid value encountered in true_divide\n",
      "  flatten_lc.flux = flatten_lc.flux / trend_signal\n",
      "/home/jp/github/transit/lightkurve2/src/lightkurve/lightkurve/lightcurve.py:250: RuntimeWarning: invalid value encountered in true_divide\n",
      "  flatten_lc.flux_err = flatten_lc.flux_err / trend_signal\n",
      "  0%|          | 0/51 [00:00<?, ?it/s]/home/jp/miniconda3/envs/astroconda35/lib/python3.6/site-packages/numpy/lib/function_base.py:1128: RuntimeWarning: Mean of empty slice.\n",
      "  avg = a.mean(axis)\n",
      "/home/jp/miniconda3/envs/astroconda35/lib/python3.6/site-packages/numpy/core/_methods.py:73: RuntimeWarning: invalid value encountered in true_divide\n",
      "  ret, rcount, out=ret, casting='unsafe', subok=False)\n",
      "/home/jp/github/transit/lightkurve2/src/lightkurve/lightkurve/correctors.py:377: RuntimeWarning: Degrees of freedom <= 0 for slice\n",
      "  _, eig_vecs = linalg.eigh(np.cov(centroids))\n",
      "/home/jp/miniconda3/envs/astroconda35/lib/python3.6/site-packages/numpy/lib/function_base.py:3109: RuntimeWarning: divide by zero encountered in double_scalars\n",
      "  c *= 1. / np.float64(fact)\n",
      "/home/jp/miniconda3/envs/astroconda35/lib/python3.6/site-packages/numpy/lib/function_base.py:3109: RuntimeWarning: invalid value encountered in multiply\n",
      "  c *= 1. / np.float64(fact)\n",
      "\n"
     ]
    },
    {
     "name": "stdout",
     "output_type": "stream",
     "text": [
      "---skipping EPIC 212178066 because\n",
      "array must not contain infs or NaNs\n",
      "---\n",
      "EPIC 212204403\n",
      "Aperture photometry with r=[3 4 5] and round mask...\n",
      "\n"
     ]
    },
    {
     "name": "stderr",
     "output_type": "stream",
     "text": [
      "100%|██████████| 51/51 [00:14<00:00,  5.17it/s]\n",
      "100%|██████████| 51/51 [00:08<00:00,  5.24it/s]\n",
      "100%|██████████| 51/51 [00:08<00:00,  5.74it/s]\n"
     ]
    },
    {
     "name": "stdout",
     "output_type": "stream",
     "text": [
      "Saved: 212204403_test.fits\n",
      "EPIC 212219881\n",
      "Aperture photometry with r=[3 4 5] and round mask...\n",
      "\n"
     ]
    },
    {
     "name": "stderr",
     "output_type": "stream",
     "text": [
      "100%|██████████| 51/51 [00:08<00:00,  6.59it/s]\n",
      "100%|██████████| 51/51 [00:08<00:00,  6.30it/s]\n",
      "100%|██████████| 51/51 [00:20<00:00,  1.42s/it]\n"
     ]
    },
    {
     "name": "stdout",
     "output_type": "stream",
     "text": [
      "Saved: 212219881_test.fits\n",
      "EPIC 251292838\n",
      "Aperture photometry with r=[3 4 5] and round mask...\n",
      "\n"
     ]
    },
    {
     "name": "stderr",
     "output_type": "stream",
     "text": [
      "100%|██████████| 51/51 [00:12<00:00,  6.41it/s]\n",
      "100%|██████████| 51/51 [00:06<00:00,  7.36it/s]\n",
      "100%|██████████| 51/51 [00:06<00:00,  7.39it/s]\n"
     ]
    },
    {
     "name": "stdout",
     "output_type": "stream",
     "text": [
      "Saved: 251292838_test.fits\n",
      "EPIC 251319382\n",
      "Aperture photometry with r=[3 4 5] and round mask...\n",
      "\n"
     ]
    },
    {
     "name": "stderr",
     "output_type": "stream",
     "text": [
      "100%|██████████| 51/51 [00:06<00:00,  7.29it/s]\n",
      "100%|██████████| 51/51 [00:06<00:00,  7.89it/s]\n",
      "100%|██████████| 51/51 [00:09<00:00,  2.80it/s]\n"
     ]
    },
    {
     "name": "stdout",
     "output_type": "stream",
     "text": [
      "Saved: 251319382_test.fits\n"
     ]
    }
   ],
   "source": [
    "for fname in file_list:\n",
    "    epic = fname.split('/')[-1].split('-')[0][4:]\n",
    "    try:\n",
    "        print('EPIC {}'.format(epic))\n",
    "        flux_per_r, aper_mask = tpf2lc(fname, radii, aper_shape=shape,\n",
    "                          outlier_sigma=sigma, flat_window=fwin, corr_window=cwin,\n",
    "                          cutoff_limit=limit, polyorder=order, break_tolerance=tol,\n",
    "                          save_as_tpf=True)\n",
    "    except Exception as e:\n",
    "        print('---skipping EPIC {} because\\n{}\\n---'.format(epic,e))"
   ]
  },
  {
   "cell_type": "markdown",
   "metadata": {},
   "source": [
    "## Reading saved tpfs"
   ]
  },
  {
   "cell_type": "code",
   "execution_count": 17,
   "metadata": {
    "ExecuteTime": {
     "end_time": "2018-04-14T03:06:13.457269Z",
     "start_time": "2018-04-14T03:06:13.447879Z"
    }
   },
   "outputs": [
    {
     "data": {
      "text/plain": [
       "29"
      ]
     },
     "execution_count": 17,
     "metadata": {},
     "output_type": "execute_result"
    }
   ],
   "source": [
    "new_tpfs = glob('test/*test.fits')\n",
    "len(new_tpfs)"
   ]
  },
  {
   "cell_type": "code",
   "execution_count": 18,
   "metadata": {
    "ExecuteTime": {
     "end_time": "2018-04-14T03:06:14.082572Z",
     "start_time": "2018-04-14T03:06:13.991880Z"
    }
   },
   "outputs": [
    {
     "name": "stdout",
     "output_type": "stream",
     "text": [
      "Filename: test/251319382_test.fits\n",
      "No.    Name      Ver    Type      Cards   Dimensions   Format\n",
      "  0  PRIMARY       1 PrimaryHDU      55   ()      \n",
      "  1  TARGETTABLES    1 BinTableHDU    284   3888R x 12C   [D, E, J, 156J, 156E, 156E, 156E, 156E, 156E, J, E, E]   \n",
      "  2  APERTURE      1 ImageHDU        61   (12, 13)   float64   \n",
      "  3  ROUND_APER0    1 BinTableHDU     68   3848R x 3C   [D, D, D]   \n",
      "  4  ROUND_APER1    1 BinTableHDU     69   3848R x 3C   [D, D, D]   \n",
      "  5  ROUND_APER2    1 BinTableHDU     70   3852R x 3C   [D, D, D]   \n"
     ]
    }
   ],
   "source": [
    "hdulist = fits.open(new_tpfs[0])\n",
    "hdulist.info()"
   ]
  },
  {
   "cell_type": "code",
   "execution_count": 19,
   "metadata": {
    "ExecuteTime": {
     "end_time": "2018-04-14T03:06:20.807852Z",
     "start_time": "2018-04-14T03:06:20.787523Z"
    },
    "collapsed": true
   },
   "outputs": [],
   "source": [
    "data, hdr = read_tpf(new_tpfs[0],index=2)"
   ]
  },
  {
   "cell_type": "code",
   "execution_count": 20,
   "metadata": {
    "ExecuteTime": {
     "end_time": "2018-04-14T03:06:22.244151Z",
     "start_time": "2018-04-14T03:06:22.227104Z"
    }
   },
   "outputs": [
    {
     "data": {
      "text/plain": [
       "array([[0., 0., 0., 0., 0., 0., 0., 0., 0., 0., 0., 0.],\n",
       "       [0., 0., 0., 0., 0., 0., 1., 0., 0., 0., 0., 0.],\n",
       "       [0., 0., 0., 1., 1., 1., 1., 1., 1., 1., 0., 0.],\n",
       "       [0., 0., 1., 1., 1., 1., 1., 1., 1., 1., 1., 0.],\n",
       "       [0., 0., 1., 1., 1., 1., 1., 1., 1., 1., 1., 0.],\n",
       "       [0., 0., 1., 1., 1., 1., 1., 1., 1., 1., 1., 0.],\n",
       "       [0., 1., 1., 1., 1., 1., 1., 1., 1., 1., 1., 1.],\n",
       "       [0., 0., 1., 1., 1., 1., 1., 1., 1., 1., 1., 0.],\n",
       "       [0., 0., 1., 1., 1., 1., 1., 1., 1., 1., 1., 0.],\n",
       "       [0., 0., 1., 1., 1., 1., 1., 1., 1., 1., 1., 0.],\n",
       "       [0., 0., 0., 1., 1., 1., 1., 1., 1., 1., 0., 0.],\n",
       "       [0., 0., 0., 0., 0., 0., 1., 0., 0., 0., 0., 0.],\n",
       "       [0., 0., 0., 0., 0., 0., 0., 0., 0., 0., 0., 0.]])"
      ]
     },
     "execution_count": 20,
     "metadata": {},
     "output_type": "execute_result"
    }
   ],
   "source": [
    "data"
   ]
  },
  {
   "cell_type": "raw",
   "metadata": {
    "ExecuteTime": {
     "end_time": "2018-04-13T23:16:21.770903Z",
     "start_time": "2018-04-13T23:16:21.659946Z"
    }
   },
   "source": [
    "tpf=KeplerTargetPixelFile(new_tpfs[0])"
   ]
  },
  {
   "cell_type": "raw",
   "metadata": {
    "ExecuteTime": {
     "end_time": "2018-04-13T23:16:41.023066Z",
     "start_time": "2018-04-13T23:16:41.013739Z"
    }
   },
   "source": [
    "tpf.flux.shape"
   ]
  },
  {
   "cell_type": "code",
   "execution_count": null,
   "metadata": {
    "collapsed": true
   },
   "outputs": [],
   "source": []
  }
 ],
 "metadata": {
  "kernelspec": {
   "display_name": "Python 3",
   "language": "python",
   "name": "python3"
  },
  "language_info": {
   "codemirror_mode": {
    "name": "ipython",
    "version": 3
   },
   "file_extension": ".py",
   "mimetype": "text/x-python",
   "name": "python",
   "nbconvert_exporter": "python",
   "pygments_lexer": "ipython3",
   "version": "3.6.1"
  }
 },
 "nbformat": 4,
 "nbformat_minor": 2
}
