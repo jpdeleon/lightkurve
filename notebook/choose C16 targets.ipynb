{
 "cells": [
  {
   "cell_type": "markdown",
   "metadata": {},
   "source": [
    "* [K2C16](https://keplerscience.arc.nasa.gov/k2-approved-programs.html#campaign-16)\n",
    "* [download link to target list](https://keplerscience.arc.nasa.gov/data/campaigns/c16/K2Campaign16targets.csv)"
   ]
  },
  {
   "cell_type": "code",
   "execution_count": 1,
   "metadata": {
    "ExecuteTime": {
     "end_time": "2018-04-07T00:43:54.596234Z",
     "start_time": "2018-04-07T00:43:54.095777Z"
    }
   },
   "outputs": [],
   "source": [
    "import pandas as pd\n",
    "import numpy as np\n",
    "\n",
    "data_dir = '../data'\n",
    "fname = data_dir+'/K2Campaign16targets.csv'\n",
    "\n",
    "df=pd.read_csv(fname)#, dtype={' magnitude': float})"
   ]
  },
  {
   "cell_type": "code",
   "execution_count": 2,
   "metadata": {
    "ExecuteTime": {
     "end_time": "2018-04-07T00:43:54.614524Z",
     "start_time": "2018-04-07T00:43:54.598515Z"
    }
   },
   "outputs": [
    {
     "data": {
      "text/plain": [
       "Index(['EPIC ID', ' RA (J2000) [deg]', ' Dec (J2000) [deg]', ' magnitude',\n",
       "       ' Investigation IDs'],\n",
       "      dtype='object')"
      ]
     },
     "execution_count": 2,
     "metadata": {},
     "output_type": "execute_result"
    }
   ],
   "source": [
    "df.columns"
   ]
  },
  {
   "cell_type": "code",
   "execution_count": 35,
   "metadata": {
    "ExecuteTime": {
     "end_time": "2018-04-07T00:59:56.773564Z",
     "start_time": "2018-04-07T00:59:56.767819Z"
    }
   },
   "outputs": [],
   "source": [
    "df.columns = [c.strip() for c in df.columns]"
   ]
  },
  {
   "cell_type": "code",
   "execution_count": 36,
   "metadata": {
    "ExecuteTime": {
     "end_time": "2018-04-07T01:00:00.279063Z",
     "start_time": "2018-04-07T01:00:00.267922Z"
    }
   },
   "outputs": [
    {
     "data": {
      "text/plain": [
       "' 18.365'"
      ]
     },
     "execution_count": 36,
     "metadata": {},
     "output_type": "execute_result"
    }
   ],
   "source": [
    "df['magnitude'].loc[22200]"
   ]
  },
  {
   "cell_type": "markdown",
   "metadata": {},
   "source": [
    "Strip whitespaces and replace them with `np.nan`"
   ]
  },
  {
   "cell_type": "code",
   "execution_count": 37,
   "metadata": {
    "ExecuteTime": {
     "end_time": "2018-04-07T01:00:05.245992Z",
     "start_time": "2018-04-07T01:00:05.185129Z"
    }
   },
   "outputs": [],
   "source": [
    "df['magnitude'] = df['magnitude'].replace(r'^\\s+$', np.nan, regex=True)"
   ]
  },
  {
   "cell_type": "code",
   "execution_count": 39,
   "metadata": {
    "ExecuteTime": {
     "end_time": "2018-04-07T01:00:19.993362Z",
     "start_time": "2018-04-07T01:00:19.908080Z"
    }
   },
   "outputs": [
    {
     "data": {
      "text/html": [
       "<div>\n",
       "<style scoped>\n",
       "    .dataframe tbody tr th:only-of-type {\n",
       "        vertical-align: middle;\n",
       "    }\n",
       "\n",
       "    .dataframe tbody tr th {\n",
       "        vertical-align: top;\n",
       "    }\n",
       "\n",
       "    .dataframe thead th {\n",
       "        text-align: right;\n",
       "    }\n",
       "</style>\n",
       "<table border=\"1\" class=\"dataframe\">\n",
       "  <thead>\n",
       "    <tr style=\"text-align: right;\">\n",
       "      <th></th>\n",
       "      <th>EPIC ID</th>\n",
       "      <th>RA (J2000) [deg]</th>\n",
       "      <th>Dec (J2000) [deg]</th>\n",
       "      <th>magnitude</th>\n",
       "      <th>Investigation IDs</th>\n",
       "    </tr>\n",
       "  </thead>\n",
       "  <tbody>\n",
       "    <tr>\n",
       "      <th>27755</th>\n",
       "      <td>212177247</td>\n",
       "      <td>133.377779</td>\n",
       "      <td>23.665426</td>\n",
       "      <td>10.0</td>\n",
       "      <td>GO16020_LC|GO16052_LC</td>\n",
       "    </tr>\n",
       "    <tr>\n",
       "      <th>17217</th>\n",
       "      <td>211814879</td>\n",
       "      <td>133.287804</td>\n",
       "      <td>17.52679</td>\n",
       "      <td>10.001</td>\n",
       "      <td>GO16052_LC</td>\n",
       "    </tr>\n",
       "    <tr>\n",
       "      <th>12247</th>\n",
       "      <td>211629981</td>\n",
       "      <td>137.741823</td>\n",
       "      <td>14.956537</td>\n",
       "      <td>10.001</td>\n",
       "      <td>GO16052_LC</td>\n",
       "    </tr>\n",
       "    <tr>\n",
       "      <th>16681</th>\n",
       "      <td>211794319</td>\n",
       "      <td>136.919732</td>\n",
       "      <td>17.236207</td>\n",
       "      <td>10.005</td>\n",
       "      <td>GO16009_LC|GO16021_LC|GO16028_LC</td>\n",
       "    </tr>\n",
       "    <tr>\n",
       "      <th>17351</th>\n",
       "      <td>211818898</td>\n",
       "      <td>132.626847</td>\n",
       "      <td>17.584589</td>\n",
       "      <td>10.006</td>\n",
       "      <td>GO16052_LC</td>\n",
       "    </tr>\n",
       "  </tbody>\n",
       "</table>\n",
       "</div>"
      ],
      "text/plain": [
       "         EPIC ID RA (J2000) [deg] Dec (J2000) [deg] magnitude  \\\n",
       "27755  212177247       133.377779         23.665426      10.0   \n",
       "17217  211814879       133.287804          17.52679    10.001   \n",
       "12247  211629981       137.741823         14.956537    10.001   \n",
       "16681  211794319       136.919732         17.236207    10.005   \n",
       "17351  211818898       132.626847         17.584589    10.006   \n",
       "\n",
       "                       Investigation IDs  \n",
       "27755              GO16020_LC|GO16052_LC  \n",
       "17217                         GO16052_LC  \n",
       "12247                         GO16052_LC  \n",
       "16681   GO16009_LC|GO16021_LC|GO16028_LC  \n",
       "17351                         GO16052_LC  "
      ]
     },
     "execution_count": 39,
     "metadata": {},
     "output_type": "execute_result"
    }
   ],
   "source": [
    "df = df.dropna().sort_values(by='magnitude',ascending=True)\n",
    "df.head()"
   ]
  },
  {
   "cell_type": "code",
   "execution_count": 40,
   "metadata": {
    "ExecuteTime": {
     "end_time": "2018-04-07T01:07:56.389364Z",
     "start_time": "2018-04-07T01:07:56.201103Z"
    },
    "collapsed": true
   },
   "outputs": [],
   "source": [
    "df.to_csv(data_dir+'/K2Campaign16targets_edited.csv')"
   ]
  },
  {
   "cell_type": "code",
   "execution_count": null,
   "metadata": {
    "collapsed": true
   },
   "outputs": [],
   "source": []
  }
 ],
 "metadata": {
  "kernelspec": {
   "display_name": "Python 3",
   "language": "python",
   "name": "python3"
  },
  "language_info": {
   "codemirror_mode": {
    "name": "ipython",
    "version": 3
   },
   "file_extension": ".py",
   "mimetype": "text/x-python",
   "name": "python",
   "nbconvert_exporter": "python",
   "pygments_lexer": "ipython3",
   "version": "3.6.1"
  }
 },
 "nbformat": 4,
 "nbformat_minor": 2
}
