{
 "cells": [
  {
   "cell_type": "markdown",
   "metadata": {},
   "source": [
    "# Lightkurve for C16\n",
    "\n",
    "The plan is to use lightkurve for C16 TPF produced by John (using kadenza?). A \"patch\" needs to be added to lightkurve for it to work, so a fork is made."
   ]
  },
  {
   "cell_type": "markdown",
   "metadata": {},
   "source": [
    "Forked lightkurve: [github](https://github.com/jpdeleon/lightkurve)"
   ]
  },
  {
   "cell_type": "code",
   "execution_count": 2,
   "metadata": {
    "ExecuteTime": {
     "end_time": "2018-03-23T14:03:10.204567Z",
     "start_time": "2018-03-23T14:03:09.883251Z"
    },
    "collapsed": true
   },
   "outputs": [],
   "source": [
    "import matplotlib.pyplot as pl\n",
    "%matplotlib inline\n",
    "import numpy as np\n",
    "from astropy.io import fits\n",
    "import pandas as pd"
   ]
  },
  {
   "cell_type": "markdown",
   "metadata": {},
   "source": [
    "Official TPF"
   ]
  },
  {
   "cell_type": "code",
   "execution_count": 3,
   "metadata": {
    "ExecuteTime": {
     "end_time": "2018-03-23T14:03:10.275031Z",
     "start_time": "2018-03-23T14:03:10.208485Z"
    }
   },
   "outputs": [
    {
     "name": "stdout",
     "output_type": "stream",
     "text": [
      "Filename: mastDownload/Kepler/kplr006922244_lc_Q111111111111111111/kplr006922244-2010078095331_lpd-targ.fits.gz\n",
      "No.    Name      Ver    Type      Cards   Dimensions   Format\n",
      "  0  PRIMARY       1 PrimaryHDU      58   ()      \n",
      "  1  TARGETTABLES    1 BinTableHDU    287   4397R x 13C   [D, E, J, 25J, 25E, 25E, 25E, 25E, 25E, J, E, E, 25E]   \n",
      "  2  APERTURE      1 ImageHDU        48   (5, 5)   int32   \n"
     ]
    }
   ],
   "source": [
    "#First we open a Target Pixel File from MAST\n",
    "tpf_official = 'mastDownload/Kepler/kplr006922244_lc_Q111111111111111111/kplr006922244-2010078095331_lpd-targ.fits.gz'\n",
    "\n",
    "fits.open(tpf_official).info()"
   ]
  },
  {
   "cell_type": "markdown",
   "metadata": {},
   "source": [
    "Unofficial TPF"
   ]
  },
  {
   "cell_type": "code",
   "execution_count": 4,
   "metadata": {
    "ExecuteTime": {
     "end_time": "2018-03-23T14:03:10.302965Z",
     "start_time": "2018-03-23T14:03:10.279186Z"
    },
    "scrolled": true
   },
   "outputs": [
    {
     "name": "stdout",
     "output_type": "stream",
     "text": [
      "Filename: ktwo249622103-unofficial-tpf.fits\n",
      "No.    Name      Ver    Type      Cards   Dimensions   Format\n",
      "  0  PRIMARY       1 PrimaryHDU      55   ()      \n",
      "  1  TARGETTABLES    1 BinTableHDU    284   4305R x 12C   [D, E, J, 88J, 88E, 88E, 88E, 88E, 88E, J, E, E]   \n",
      "  2  APERTURE      1 ImageHDU        49   (11, 8)   int32   \n"
     ]
    }
   ],
   "source": [
    "tpf_unofficial = 'ktwo249622103-unofficial-tpf.fits'\n",
    "\n",
    "fits.open(tpf_unofficial).info()"
   ]
  },
  {
   "cell_type": "markdown",
   "metadata": {},
   "source": [
    "Official TPF"
   ]
  },
  {
   "cell_type": "code",
   "execution_count": 5,
   "metadata": {
    "ExecuteTime": {
     "end_time": "2018-03-23T14:03:10.466204Z",
     "start_time": "2018-03-23T14:03:10.307424Z"
    }
   },
   "outputs": [
    {
     "data": {
      "text/plain": [
       "ColDefs(\n",
       "    name = 'TIME'; format = 'D'; unit = 'BJD - 2454833'; disp = 'D14.7'\n",
       "    name = 'TIMECORR'; format = 'E'; unit = 'd'; disp = 'E14.7'\n",
       "    name = 'CADENCENO'; format = 'J'; disp = 'I10'\n",
       "    name = 'RAW_CNTS'; format = '25J'; unit = 'count'; null = -1; disp = 'I8'; dim = '(5,5)'\n",
       "    name = 'FLUX'; format = '25E'; unit = 'e-/s'; disp = 'E14.7'; dim = '(5,5)'\n",
       "    name = 'FLUX_ERR'; format = '25E'; unit = 'e-/s'; disp = 'E14.7'; dim = '(5,5)'\n",
       "    name = 'FLUX_BKG'; format = '25E'; unit = 'e-/s'; disp = 'E14.7'; dim = '(5,5)'\n",
       "    name = 'FLUX_BKG_ERR'; format = '25E'; unit = 'e-/s'; disp = 'E14.7'; dim = '(5,5)'\n",
       "    name = 'COSMIC_RAYS'; format = '25E'; unit = 'e-/s'; disp = 'E14.7'; dim = '(5,5)'\n",
       "    name = 'QUALITY'; format = 'J'; disp = 'B24.24'\n",
       "    name = 'POS_CORR1'; format = 'E'; unit = 'pixel'; disp = 'E14.7'\n",
       "    name = 'POS_CORR2'; format = 'E'; unit = 'pixel'; disp = 'E14.7'\n",
       "    name = 'RB_LEVEL'; format = '25E'; unit = 'sigma'; disp = 'E14.7'; dim = '(5,5)'\n",
       ")"
      ]
     },
     "execution_count": 5,
     "metadata": {},
     "output_type": "execute_result"
    }
   ],
   "source": [
    "official_rec = fits.open(tpf_official)[1].data.columns"
   ]
  },
  {
   "cell_type": "code",
   "execution_count": null,
   "metadata": {
    "collapsed": true
   },
   "outputs": [],
   "source": [
    "for key in official_rec:\n",
    "    print(len(official_rec[key]))"
   ]
  },
  {
   "cell_type": "code",
   "execution_count": 6,
   "metadata": {
    "ExecuteTime": {
     "end_time": "2018-03-23T14:03:10.556863Z",
     "start_time": "2018-03-23T14:03:10.471399Z"
    }
   },
   "outputs": [
    {
     "data": {
      "text/plain": [
       "ColDefs(\n",
       "    name = 'TIME'; format = 'D'; unit = 'BJD - 2454833'; disp = 'D14.7'\n",
       "    name = 'TIMECORR'; format = 'E'; unit = 'D'; disp = 'E14.7'\n",
       "    name = 'CADENCENO'; format = 'J'; disp = 'I10'\n",
       "    name = 'RAW_CNTS'; format = '88J'; unit = 'count'; null = -1; disp = 'I8'; dim = '(11,8)'\n",
       "    name = 'FLUX'; format = '88E'; unit = 'e-/s'; disp = 'E14.7'; dim = '(11,8)'\n",
       "    name = 'FLUX_ERR'; format = '88E'; unit = 'e-/s'; disp = 'E14.7'; dim = '(11,8)'\n",
       "    name = 'FLUX_BKG'; format = '88E'; unit = 'e-/s'; disp = 'E14.7'; dim = '(11,8)'\n",
       "    name = 'FLUX_BKG_ERR'; format = '88E'; unit = 'e-/s'; disp = 'E14.7'; dim = '(11,8)'\n",
       "    name = 'COSMIC_RAYS'; format = '88E'; unit = 'e-/s'; disp = 'E14.7'; dim = '(11,8)'\n",
       "    name = 'QUALITY'; format = 'J'; disp = 'B24.24'\n",
       "    name = 'POS_CORR1'; format = 'E'; unit = 'pixels'; disp = 'E14.7'\n",
       "    name = 'POS_CORR2'; format = 'E'; unit = 'pixels'; disp = 'E14.7'\n",
       ")"
      ]
     },
     "execution_count": 6,
     "metadata": {},
     "output_type": "execute_result"
    }
   ],
   "source": [
    "fits.open(tpf_unofficial)[1].data.columns"
   ]
  },
  {
   "cell_type": "markdown",
   "metadata": {},
   "source": [
    "Official TPF"
   ]
  },
  {
   "cell_type": "code",
   "execution_count": 7,
   "metadata": {
    "ExecuteTime": {
     "end_time": "2018-03-23T14:03:12.615162Z",
     "start_time": "2018-03-23T14:03:10.560829Z"
    }
   },
   "outputs": [
    {
     "name": "stderr",
     "output_type": "stream",
     "text": [
      "100%|██████████| 20/20 [00:01<00:00, 11.37it/s]\n"
     ]
    }
   ],
   "source": [
    "from lightkurve import KeplerTargetPixelFile\n",
    "\n",
    "tpf = KeplerTargetPixelFile(tpf_official, quality_bitmask='hardest')\n",
    "lc = tpf.to_lightcurve(aperture_mask='all');\n",
    "lc = lc.remove_nans().remove_outliers(sigma=10)\n",
    "window_length = 101\n",
    "lc = lc.flatten(window_length=window_length, polyorder=2, break_tolerance=10*window_length)\n",
    "corr_lc = lc.correct(windows=20)"
   ]
  },
  {
   "cell_type": "markdown",
   "metadata": {},
   "source": [
    "Unofficial TPF"
   ]
  },
  {
   "cell_type": "code",
   "execution_count": 8,
   "metadata": {
    "ExecuteTime": {
     "end_time": "2018-03-23T14:03:16.779305Z",
     "start_time": "2018-03-23T14:03:16.615515Z"
    },
    "collapsed": true
   },
   "outputs": [],
   "source": [
    "from lightkurve import KeplerTargetPixelFile\n",
    "\n",
    "tpf = KeplerTargetPixelFile(tpf_unofficial, quality_bitmask='hardest')\n",
    "lc = tpf.to_lightcurve(aperture_mask='all');\n",
    "lc = lc.remove_nans().remove_outliers(sigma=10)\n",
    "window_length = 101\n",
    "lc = lc.flatten(window_length=window_length, polyorder=2, break_tolerance=10*window_length)"
   ]
  },
  {
   "cell_type": "raw",
   "metadata": {
    "ExecuteTime": {
     "end_time": "2018-03-23T13:34:32.598355Z",
     "start_time": "2018-03-23T13:34:32.592790Z"
    }
   },
   "source": [
    "% pdb"
   ]
  },
  {
   "cell_type": "code",
   "execution_count": 14,
   "metadata": {
    "ExecuteTime": {
     "end_time": "2018-03-23T14:02:00.883683Z",
     "start_time": "2018-03-23T14:01:59.608632Z"
    }
   },
   "outputs": [
    {
     "name": "stderr",
     "output_type": "stream",
     "text": [
      "100%|██████████| 1/1 [00:01<00:00,  1.26s/it]\n"
     ]
    },
    {
     "data": {
      "text/plain": [
       "<lightkurve.lightcurve.LightCurve at 0x7f96c475ceb8>"
      ]
     },
     "execution_count": 14,
     "metadata": {},
     "output_type": "execute_result"
    }
   ],
   "source": [
    "from lightkurve import SFFCorrector\n",
    "\n",
    "sff = SFFCorrector()\n",
    "\n",
    "time, flux, centroid_col, centroid_row = lc.time, lc.flux, lc.centroid_col, lc.centroid_row\n",
    "sff.correct(time, flux, centroid_col, centroid_row)"
   ]
  },
  {
   "cell_type": "code",
   "execution_count": 11,
   "metadata": {
    "ExecuteTime": {
     "end_time": "2018-03-23T14:04:43.749412Z",
     "start_time": "2018-03-23T14:04:41.818445Z"
    }
   },
   "outputs": [
    {
     "name": "stderr",
     "output_type": "stream",
     "text": [
      "100%|██████████| 20/20 [00:01<00:00, 10.47it/s]\n"
     ]
    }
   ],
   "source": [
    "tpf = KeplerTargetPixelFile(tpf_unofficial) #, quality_bitmask='hardest')\n",
    "lc = tpf.to_lightcurve(aperture_mask='all');\n",
    "lc = lc.remove_nans().remove_outliers()\n",
    "lc = lc.flatten(window_length=401, break_tolerance=100)\n",
    "corr_lc = lc.correct(windows=20)"
   ]
  },
  {
   "cell_type": "code",
   "execution_count": 12,
   "metadata": {
    "ExecuteTime": {
     "end_time": "2018-03-23T14:04:45.303446Z",
     "start_time": "2018-03-23T14:04:45.296778Z"
    },
    "scrolled": true
   },
   "outputs": [
    {
     "data": {
      "text/plain": [
       "(4305, 8, 11)"
      ]
     },
     "execution_count": 12,
     "metadata": {},
     "output_type": "execute_result"
    }
   ],
   "source": [
    "tpf.shape"
   ]
  },
  {
   "cell_type": "code",
   "execution_count": 13,
   "metadata": {
    "ExecuteTime": {
     "end_time": "2018-03-23T14:04:46.451128Z",
     "start_time": "2018-03-23T14:04:45.560936Z"
    }
   },
   "outputs": [
    {
     "data": {
      "text/plain": [
       "<matplotlib.axes._subplots.AxesSubplot at 0x7f2bdc80aeb8>"
      ]
     },
     "execution_count": 13,
     "metadata": {},
     "output_type": "execute_result"
    },
    {
     "data": {
      "image/png": "[encoded data removed]",
      "text/plain": [
       "<Figure size 432x288 with 2 Axes>"
      ]
     },
     "metadata": {},
     "output_type": "display_data"
    }
   ],
   "source": [
    "tpf.plot(frame=1)"
   ]
  },
  {
   "cell_type": "raw",
   "metadata": {
    "ExecuteTime": {
     "end_time": "2018-03-23T06:23:08.355098Z",
     "start_time": "2018-03-23T06:23:08.342448Z"
    }
   },
   "source": [
    "tpf.wcs"
   ]
  },
  {
   "cell_type": "code",
   "execution_count": 14,
   "metadata": {
    "ExecuteTime": {
     "end_time": "2018-03-23T14:04:48.139873Z",
     "start_time": "2018-03-23T14:04:47.656604Z"
    }
   },
   "outputs": [
    {
     "data": {
      "text/plain": [
       "<matplotlib.axes._subplots.AxesSubplot at 0x7f2bdc91e048>"
      ]
     },
     "execution_count": 14,
     "metadata": {},
     "output_type": "execute_result"
    },
    {
     "data": {
      "image/png": "[encoded data removed]",
      "text/plain": [
       "<Figure size 432x288 with 2 Axes>"
      ]
     },
     "metadata": {},
     "output_type": "display_data"
    }
   ],
   "source": [
    "#pl.imshow(tpf.pipeline_mask,origin='bottom')\n",
    "tpf.plot(aperture_mask=tpf.pipeline_mask)"
   ]
  },
  {
   "cell_type": "code",
   "execution_count": 15,
   "metadata": {
    "ExecuteTime": {
     "end_time": "2018-03-23T14:04:54.723306Z",
     "start_time": "2018-03-23T14:04:54.702047Z"
    }
   },
   "outputs": [
    {
     "name": "stdout",
     "output_type": "stream",
     "text": [
      "   Attribute                    Description                 \n",
      "--------------- --------------------------------------------\n",
      "        channel                                           63\n",
      "       campaign                                         None\n",
      "        mission                                           K2\n",
      "      cadenceno                                array (4305,)\n",
      "   centroid_col                                array (4265,)\n",
      "   centroid_row                                array (4265,)\n",
      "           flux                                array (4265,)\n",
      "       flux_err                                array (4265,)\n",
      "        quality                                array (4265,)\n",
      "           time                                array (4265,)\n",
      "      corrector <class 'lightkurve.correctors.SFFCorrector'>\n",
      "       keplerid                           <class 'NoneType'>\n",
      "           meta                               <class 'dict'>\n",
      "quality_bitmask                           <class 'NoneType'>\n",
      "        quarter                           <class 'NoneType'>\n"
     ]
    }
   ],
   "source": [
    "lc.properties()"
   ]
  },
  {
   "cell_type": "code",
   "execution_count": 16,
   "metadata": {
    "ExecuteTime": {
     "end_time": "2018-03-23T14:05:17.261390Z",
     "start_time": "2018-03-23T14:05:17.100074Z"
    }
   },
   "outputs": [
    {
     "data": {
      "text/plain": [
       "4379.940857076528"
      ]
     },
     "execution_count": 16,
     "metadata": {},
     "output_type": "execute_result"
    }
   ],
   "source": [
    "lc.cdpp()"
   ]
  },
  {
   "cell_type": "code",
   "execution_count": 17,
   "metadata": {
    "ExecuteTime": {
     "end_time": "2018-03-23T14:05:19.557317Z",
     "start_time": "2018-03-23T14:05:19.147427Z"
    },
    "scrolled": true
   },
   "outputs": [
    {
     "data": {
      "image/png": "[encoded data removed]",
      "text/plain": [
       "<Figure size 432x288 with 1 Axes>"
      ]
     },
     "metadata": {},
     "output_type": "display_data"
    }
   ],
   "source": [
    "lc.plot(linestyle='solid');"
   ]
  },
  {
   "cell_type": "code",
   "execution_count": 18,
   "metadata": {
    "ExecuteTime": {
     "end_time": "2018-03-23T14:05:24.217216Z",
     "start_time": "2018-03-23T14:05:23.485588Z"
    }
   },
   "outputs": [
    {
     "data": {
      "image/png": "[encoded data removed]",
      "text/plain": [
       "<Figure size 432x288 with 1 Axes>"
      ]
     },
     "metadata": {},
     "output_type": "display_data"
    }
   ],
   "source": [
    "flat, trend = lc.flatten(window_length=401, return_trend=True)\n",
    "\n",
    "ax = lc.plot(linestyle='solid');\n",
    "trend.plot(ax, color='red');"
   ]
  },
  {
   "cell_type": "code",
   "execution_count": 19,
   "metadata": {
    "ExecuteTime": {
     "end_time": "2018-03-23T14:05:28.290576Z",
     "start_time": "2018-03-23T14:05:27.759101Z"
    }
   },
   "outputs": [
    {
     "data": {
      "image/png": "[encoded data removed]",
      "text/plain": [
       "<Figure size 432x288 with 1 Axes>"
      ]
     },
     "metadata": {},
     "output_type": "display_data"
    }
   ],
   "source": [
    "flat_lc = lc.flatten(window_length=401)\n",
    "flat_lc.plot();"
   ]
  },
  {
   "cell_type": "code",
   "execution_count": 20,
   "metadata": {
    "ExecuteTime": {
     "end_time": "2018-03-23T14:05:37.759094Z",
     "start_time": "2018-03-23T14:05:37.661625Z"
    }
   },
   "outputs": [
    {
     "name": "stdout",
     "output_type": "stream",
     "text": [
      "Finding optimal frequency:\n",
      " - Estimated peak width = 0.0714\n",
      " - Using 5 steps per peak; omega_step = 0.0143\n",
      " - User-specified period range:  1 to 10\n",
      " - Computing periods at 397 steps\n",
      "Zooming-in on 5 candidate peaks:\n",
      " - Computing periods at 995 steps\n"
     ]
    },
    {
     "data": {
      "text/plain": [
       "<gatspy.periodic.lomb_scargle_fast.LombScargleFast at 0x7f2bdc52ccf8>"
      ]
     },
     "execution_count": 20,
     "metadata": {},
     "output_type": "execute_result"
    }
   ],
   "source": [
    "from gatspy.periodic import LombScargleFast\n",
    "\n",
    "model=LombScargleFast(fit_period=True)\n",
    "\n",
    "model.optimizer.period_range = (1, 10)\n",
    "\n",
    "model.fit(flat_lc.time, flat_lc.flux, flat_lc.flux_err)"
   ]
  },
  {
   "cell_type": "code",
   "execution_count": 21,
   "metadata": {
    "ExecuteTime": {
     "end_time": "2018-03-23T14:05:39.150023Z",
     "start_time": "2018-03-23T14:05:39.144359Z"
    }
   },
   "outputs": [
    {
     "data": {
      "text/plain": [
       "9.630115700317473"
      ]
     },
     "execution_count": 21,
     "metadata": {},
     "output_type": "execute_result"
    }
   ],
   "source": [
    "model.best_period"
   ]
  },
  {
   "cell_type": "code",
   "execution_count": 22,
   "metadata": {
    "ExecuteTime": {
     "end_time": "2018-03-23T14:05:40.115357Z",
     "start_time": "2018-03-23T14:05:39.735668Z"
    }
   },
   "outputs": [
    {
     "data": {
      "image/png": "[encoded data removed]",
      "text/plain": [
       "<Figure size 432x288 with 1 Axes>"
      ]
     },
     "metadata": {},
     "output_type": "display_data"
    }
   ],
   "source": [
    "folded_lc = flat_lc.fold(period=3.5225)\n",
    "folded_lc.plot();"
   ]
  },
  {
   "cell_type": "markdown",
   "metadata": {},
   "source": [
    "# Using C13 Example "
   ]
  },
  {
   "cell_type": "code",
   "execution_count": 14,
   "metadata": {
    "ExecuteTime": {
     "end_time": "2018-03-20T17:24:54.968002Z",
     "start_time": "2018-03-20T17:24:54.951312Z"
    },
    "collapsed": true
   },
   "outputs": [],
   "source": [
    "from astropy.io import fits\n",
    "\n",
    "dirloc = '/home/jp/data/transit/c13/'\n",
    "fname = dirloc+'ktwo247589423-c13_lpd-targ.fits.gz'\n",
    "sample_fits = fits.open(fname)"
   ]
  },
  {
   "cell_type": "code",
   "execution_count": null,
   "metadata": {
    "collapsed": true
   },
   "outputs": [],
   "source": []
  },
  {
   "cell_type": "markdown",
   "metadata": {
    "collapsed": true
   },
   "source": [
    "# SFF"
   ]
  },
  {
   "cell_type": "code",
   "execution_count": 11,
   "metadata": {
    "ExecuteTime": {
     "end_time": "2018-03-23T12:54:20.878864Z",
     "start_time": "2018-03-23T12:54:20.741101Z"
    },
    "collapsed": true
   },
   "outputs": [],
   "source": [
    "from lightkurve import KeplerTargetPixelFile\n",
    "import numpy as np\n",
    "import pandas as pd\n",
    "\n",
    "tpf_unofficial = 'ktwo249622103-unofficial-tpf.fits'\n",
    "\n",
    "tpf = KeplerTargetPixelFile(tpf_unofficial, quality_bitmask='hardest')\n",
    "lc = tpf.to_lightcurve(aperture_mask='all');\n",
    "lc = lc.remove_nans().remove_outliers(sigma=10)"
   ]
  },
  {
   "cell_type": "code",
   "execution_count": 12,
   "metadata": {
    "ExecuteTime": {
     "end_time": "2018-03-23T12:54:29.680543Z",
     "start_time": "2018-03-23T12:54:29.670390Z"
    },
    "collapsed": true
   },
   "outputs": [],
   "source": [
    "#df contains\n",
    "#BJD - 2454833\tRaw Flux\tCorrected Flux\tX-centroid\tY-centroid\tarclength\tCorrection\tThrusters On\n",
    "\n",
    "time = lc.time\n",
    "flux = lc.flux\n",
    "\n",
    "col = lc.centroid_col\n",
    "col = col - np.mean(col)\n",
    "row = lc.centroid_row\n",
    "row = row - np.mean(row)\n",
    "\n",
    "#pd.DataFrame(np.c_[])"
   ]
  },
  {
   "cell_type": "code",
   "execution_count": 13,
   "metadata": {
    "ExecuteTime": {
     "end_time": "2018-03-23T12:55:01.107805Z",
     "start_time": "2018-03-23T12:55:01.089890Z"
    },
    "collapsed": true
   },
   "outputs": [],
   "source": [
    "def _get_eigen_vectors(centroid_col, centroid_row):\n",
    "    '''get the eigenvalues and eigenvectors given centroid x, y positions'''\n",
    "    centroids = np.array([centroid_col, centroid_row])\n",
    "    eig_val, eig_vec = np.linalg.eigh(np.cov(centroids))\n",
    "    return eig_val, eig_vec\n",
    "\n",
    "def _rotate(eig_vec, centroid_col, centroid_row):\n",
    "    '''rotate the centroids into their predominant linear axis'''\n",
    "    centroids = np.array([centroid_col, centroid_row])\n",
    "    return np.dot(eig_vec, centroids)\n",
    "\n",
    "eig_val, eig_vec = _get_eigen_vectors(col, row)\n",
    "v1, v2 = eig_vec"
   ]
  },
  {
   "cell_type": "code",
   "execution_count": 15,
   "metadata": {
    "ExecuteTime": {
     "end_time": "2018-03-23T12:55:18.424189Z",
     "start_time": "2018-03-23T12:55:18.130562Z"
    }
   },
   "outputs": [
    {
     "data": {
      "image/png": "[encoded data removed]",
      "text/plain": [
       "<Figure size 360x432 with 1 Axes>"
      ]
     },
     "metadata": {},
     "output_type": "display_data"
    }
   ],
   "source": [
    "platescale = 4.0 # The Kepler plate scale; has units of arcseconds / pixel\n",
    "\n",
    "pl.figure(figsize=(5, 6))\n",
    "pl.plot(col * platescale, row * platescale, 'ko', ms=4)\n",
    "pl.plot(col * platescale, row * platescale, 'ro', ms=1)\n",
    "pl.xticks([-2, -1,0, 1, 2])\n",
    "pl.yticks([-2, -1,0, 1, 2])\n",
    "pl.xlabel('X position [arcseconds]')\n",
    "pl.ylabel('Y position [arcseconds]')\n",
    "pl.xlim(-2, 2)\n",
    "pl.ylim(-2, 2)\n",
    "pl.plot([0, v1[0]], [0, v1[1]], color='blue', lw=3)\n",
    "pl.plot([0, v2[0]], [0, v2[1]], color='blue', lw=3);"
   ]
  },
  {
   "cell_type": "code",
   "execution_count": 16,
   "metadata": {
    "ExecuteTime": {
     "end_time": "2018-03-23T12:56:07.111825Z",
     "start_time": "2018-03-23T12:56:07.107223Z"
    },
    "collapsed": true
   },
   "outputs": [],
   "source": [
    "rot_colp, rot_rowp = _rotate(eig_vec, col, row) #units in pixels"
   ]
  },
  {
   "cell_type": "code",
   "execution_count": 17,
   "metadata": {
    "ExecuteTime": {
     "end_time": "2018-03-23T12:56:09.447887Z",
     "start_time": "2018-03-23T12:56:09.209946Z"
    }
   },
   "outputs": [
    {
     "data": {
      "image/png": "[encoded data removed]",
      "text/plain": [
       "<Figure size 360x432 with 1 Axes>"
      ]
     },
     "metadata": {},
     "output_type": "display_data"
    }
   ],
   "source": [
    "pl.figure(figsize=(5, 6))\n",
    "pl.plot(rot_rowp * platescale, rot_colp * platescale, 'ko', ms=4)\n",
    "pl.plot(rot_rowp * platescale, rot_colp * platescale, 'ro', ms=1)\n",
    "pl.xticks([-2, -1,0, 1, 2])\n",
    "pl.yticks([-2, -1,0, 1, 2])\n",
    "pl.xlabel(\"X' position [arcseconds]\")\n",
    "pl.ylabel(\"Y' position [arcseconds]\")\n",
    "pl.xlim(-2, 2)\n",
    "pl.ylim(-2, 2)\n",
    "pl.plot([0, 1], [0, 0], color='blue')\n",
    "pl.plot([0, 0], [0, 1], color='blue');"
   ]
  },
  {
   "cell_type": "code",
   "execution_count": null,
   "metadata": {
    "collapsed": true
   },
   "outputs": [],
   "source": [
    "## Calculate arclength\n",
    "z = np.polyfit(rot_rowp, rot_colp, 5)\n",
    "p5 = np.poly1d(z)\n",
    "p5_deriv = p5.deriv()\n",
    "\n",
    "x0_prime = np.min(rot_rowp)\n",
    "xmax_prime = np.max(rot_rowp)\n",
    "x_dense = np.linspace(x0_prime, xmax_prime, 2000)"
   ]
  },
  {
   "cell_type": "code",
   "execution_count": 20,
   "metadata": {
    "ExecuteTime": {
     "end_time": "2018-03-23T12:57:07.366464Z",
     "start_time": "2018-03-23T12:57:07.096139Z"
    }
   },
   "outputs": [
    {
     "data": {
      "image/png": "[encoded data removed]",
      "text/plain": [
       "<Figure size 432x288 with 1 Axes>"
      ]
     },
     "metadata": {},
     "output_type": "display_data"
    }
   ],
   "source": [
    "pl.plot(rot_rowp, rot_colp, '.')\n",
    "pl.plot(x_dense, p5(x_dense))\n",
    "pl.ylabel('Position along minor axis (pixels)')\n",
    "pl.xlabel('Position along major axis (pixels)')\n",
    "pl.title('Performance of polynomial regression')\n",
    "pl.ylim(-0.4, 0.4);"
   ]
  },
  {
   "cell_type": "code",
   "execution_count": 21,
   "metadata": {
    "ExecuteTime": {
     "end_time": "2018-03-23T12:57:34.649658Z",
     "start_time": "2018-03-23T12:57:34.029154Z"
    },
    "collapsed": true
   },
   "outputs": [],
   "source": [
    "@np.vectorize\n",
    "def arclength(x):\n",
    "    '''Input x1_prime, get out arclength'''\n",
    "    gi = x_dense <x\n",
    "    s_integrand = np.sqrt(1 + p5_deriv(x_dense[gi]) ** 2)\n",
    "    s = np.trapz(s_integrand, x=x_dense[gi])\n",
    "    return s\n",
    "\n",
    "al = arclength(rot_rowp)*4.0"
   ]
  },
  {
   "cell_type": "code",
   "execution_count": 25,
   "metadata": {
    "ExecuteTime": {
     "end_time": "2018-03-23T12:58:45.442854Z",
     "start_time": "2018-03-23T12:58:44.718067Z"
    }
   },
   "outputs": [
    {
     "data": {
      "text/plain": [
       "[<matplotlib.lines.Line2D at 0x7f2ff8e0c128>]"
      ]
     },
     "execution_count": 25,
     "metadata": {},
     "output_type": "execute_result"
    },
    {
     "data": {
      "image/png": "[encoded data removed]",
      "text/plain": [
       "<Figure size 288x288 with 1 Axes>"
      ]
     },
     "metadata": {},
     "output_type": "display_data"
    }
   ],
   "source": [
    "aspect_ratio = pl.figaspect(1)\n",
    "pl.figure(figsize=aspect_ratio)\n",
    "pl.plot(arclength(rot_rowp)*4.0, '.')"
   ]
  },
  {
   "cell_type": "code",
   "execution_count": 33,
   "metadata": {
    "ExecuteTime": {
     "end_time": "2018-03-23T13:43:32.013196Z",
     "start_time": "2018-03-23T13:43:32.000341Z"
    },
    "collapsed": true
   },
   "outputs": [],
   "source": [
    "#apply high-pass filter using BSplines with N-day breakpoints\n",
    "from scipy.interpolate import BSpline\n",
    "from scipy import interpolate\n",
    "\n",
    "N = 1.5\n",
    "interior_knots = np.arange(time[0]+N, time[0]+6, N)"
   ]
  },
  {
   "cell_type": "code",
   "execution_count": 34,
   "metadata": {
    "ExecuteTime": {
     "end_time": "2018-03-23T13:43:32.667067Z",
     "start_time": "2018-03-23T13:43:32.661023Z"
    }
   },
   "outputs": [
    {
     "data": {
      "text/plain": [
       "array([3177.27310826, 3178.77310826, 3180.27310826])"
      ]
     },
     "execution_count": 34,
     "metadata": {},
     "output_type": "execute_result"
    }
   ],
   "source": [
    "interior_knots"
   ]
  },
  {
   "cell_type": "code",
   "execution_count": 23,
   "metadata": {
    "ExecuteTime": {
     "end_time": "2018-03-23T14:06:20.269668Z",
     "start_time": "2018-03-23T14:06:20.245247Z"
    }
   },
   "outputs": [
    {
     "ename": "NameError",
     "evalue": "name 'interpolate' is not defined",
     "output_type": "error",
     "traceback": [
      "\u001b[0;31m---------------------------------------------------------------------------\u001b[0m",
      "\u001b[0;31mNameError\u001b[0m                                 Traceback (most recent call last)",
      "\u001b[0;32m<ipython-input-23-83d90d09b57c>\u001b[0m in \u001b[0;36m<module>\u001b[0;34m()\u001b[0m\n\u001b[0;32m----> 1\u001b[0;31m \u001b[0mt\u001b[0m\u001b[0;34m,\u001b[0m\u001b[0mc\u001b[0m\u001b[0;34m,\u001b[0m\u001b[0mk\u001b[0m \u001b[0;34m=\u001b[0m \u001b[0minterpolate\u001b[0m\u001b[0;34m.\u001b[0m\u001b[0msplrep\u001b[0m\u001b[0;34m(\u001b[0m\u001b[0msorted\u001b[0m\u001b[0;34m(\u001b[0m\u001b[0mtime\u001b[0m\u001b[0;34m)\u001b[0m\u001b[0;34m,\u001b[0m \u001b[0mflux\u001b[0m\u001b[0;34m,\u001b[0m \u001b[0ms\u001b[0m\u001b[0;34m=\u001b[0m\u001b[0;36m0\u001b[0m\u001b[0;34m,\u001b[0m \u001b[0mtask\u001b[0m\u001b[0;34m=\u001b[0m\u001b[0;34m-\u001b[0m\u001b[0;36m1\u001b[0m\u001b[0;34m,\u001b[0m \u001b[0mt\u001b[0m\u001b[0;34m=\u001b[0m\u001b[0minterior_knots\u001b[0m\u001b[0;34m)\u001b[0m\u001b[0;34m\u001b[0m\u001b[0m\n\u001b[0m\u001b[1;32m      2\u001b[0m \u001b[0mbspl\u001b[0m \u001b[0;34m=\u001b[0m \u001b[0mBSpline\u001b[0m\u001b[0;34m(\u001b[0m\u001b[0mt\u001b[0m\u001b[0;34m,\u001b[0m\u001b[0mc\u001b[0m\u001b[0;34m,\u001b[0m\u001b[0mk\u001b[0m\u001b[0;34m)\u001b[0m\u001b[0;34m\u001b[0m\u001b[0m\n",
      "\u001b[0;31mNameError\u001b[0m: name 'interpolate' is not defined"
     ]
    }
   ],
   "source": [
    "t,c,k = interpolate.splrep(sorted(time), flux, s=0, task=-1, t=interior_knots)\n",
    "bspl = BSpline(t,c,k)"
   ]
  },
  {
   "cell_type": "code",
   "execution_count": 41,
   "metadata": {
    "ExecuteTime": {
     "end_time": "2018-03-23T13:44:34.144413Z",
     "start_time": "2018-03-23T13:44:33.536772Z"
    }
   },
   "outputs": [
    {
     "data": {
      "image/png": "[encoded data removed]",
      "text/plain": [
       "<Figure size 432x288 with 1 Axes>"
      ]
     },
     "metadata": {},
     "output_type": "display_data"
    }
   ],
   "source": [
    "pl.plot(time, flux, '.')\n",
    "pl.plot(time, bspl(time))\n",
    "pl.xlabel('$t$ (days)')\n",
    "pl.ylabel('Raw Flux');"
   ]
  },
  {
   "cell_type": "code",
   "execution_count": 43,
   "metadata": {
    "ExecuteTime": {
     "end_time": "2018-03-23T13:44:43.522848Z",
     "start_time": "2018-03-23T13:44:43.515482Z"
    },
    "collapsed": true
   },
   "outputs": [],
   "source": [
    "flux = flux/bspl(time)"
   ]
  },
  {
   "cell_type": "raw",
   "metadata": {
    "ExecuteTime": {
     "end_time": "2018-03-23T13:44:37.095402Z",
     "start_time": "2018-03-23T13:44:37.085554Z"
    }
   },
   "source": [
    "#remove data during thruster firing\n",
    "good = \n",
    "al = arclength(rot_rowp[good]) * platescale"
   ]
  },
  {
   "cell_type": "code",
   "execution_count": null,
   "metadata": {
    "collapsed": true
   },
   "outputs": [],
   "source": []
  }
 ],
 "metadata": {
  "kernelspec": {
   "display_name": "Python 3",
   "language": "python",
   "name": "python3"
  },
  "language_info": {
   "codemirror_mode": {
    "name": "ipython",
    "version": 3
   },
   "file_extension": ".py",
   "mimetype": "text/x-python",
   "name": "python",
   "nbconvert_exporter": "python",
   "pygments_lexer": "ipython3",
   "version": "3.6.4"
  }
 },
 "nbformat": 4,
 "nbformat_minor": 2
}
