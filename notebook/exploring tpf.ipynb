{
 "cells": [
  {
   "cell_type": "code",
   "execution_count": 1,
   "metadata": {
    "ExecuteTime": {
     "end_time": "2018-04-11T07:16:42.304662Z",
     "start_time": "2018-04-11T07:16:42.290822Z"
    },
    "collapsed": true
   },
   "outputs": [],
   "source": [
    "import getpass\n",
    "uname = getpass.getuser()\n",
    "\n",
    "if uname == 'prometheus' or uname == 'jp':\n",
    "    data_dir = '/home/'+uname+'/data/transit/c16-tpf/'\n",
    "elif uname == 'muscat':\n",
    "    data_dir = '../c16-tpf/'\n",
    "else: \n",
    "    data_dir = '.'"
   ]
  },
  {
   "cell_type": "code",
   "execution_count": 2,
   "metadata": {
    "ExecuteTime": {
     "end_time": "2018-04-11T07:16:43.474362Z",
     "start_time": "2018-04-11T07:16:42.307519Z"
    },
    "collapsed": true
   },
   "outputs": [],
   "source": [
    "import matplotlib.pyplot as pl\n",
    "%matplotlib inline\n",
    "\n",
    "import os\n",
    "from glob import glob\n",
    "import numpy as np\n",
    "from astropy.io import fits\n",
    "import pandas as pd"
   ]
  },
  {
   "cell_type": "code",
   "execution_count": 3,
   "metadata": {
    "ExecuteTime": {
     "end_time": "2018-04-11T07:16:43.489771Z",
     "start_time": "2018-04-11T07:16:43.477410Z"
    }
   },
   "outputs": [
    {
     "data": {
      "text/plain": [
       "31"
      ]
     },
     "execution_count": 3,
     "metadata": {},
     "output_type": "execute_result"
    }
   ],
   "source": [
    "file_list = glob(data_dir+'/Yu2018_candidates/*.fits')\n",
    "file_list.sort()\n",
    "len(file_list)"
   ]
  },
  {
   "cell_type": "code",
   "execution_count": 4,
   "metadata": {
    "ExecuteTime": {
     "end_time": "2018-04-11T07:16:43.710622Z",
     "start_time": "2018-04-11T07:16:43.493861Z"
    }
   },
   "outputs": [
    {
     "name": "stdout",
     "output_type": "stream",
     "text": [
      "Filename: /home/jp/data/transit/c16-tpf//Yu2018_candidates/ktwo251319382-unofficial-tpf.fits\n",
      "No.    Name      Ver    Type      Cards   Dimensions   Format\n",
      "  0  PRIMARY       1 PrimaryHDU      55   ()      \n",
      "  1  TARGETTABLES    1 BinTableHDU    284   3888R x 12C   [D, E, J, 156J, 156E, 156E, 156E, 156E, 156E, J, E, E]   \n",
      "  2  APERTURE      1 ImageHDU        49   (12, 13)   int32   \n"
     ]
    }
   ],
   "source": [
    "fname = file_list[-1]\n",
    "\n",
    "rec_array = fits.open(fname)\n",
    "rec_array.info()"
   ]
  },
  {
   "cell_type": "code",
   "execution_count": 5,
   "metadata": {
    "ExecuteTime": {
     "end_time": "2018-04-11T07:16:43.757724Z",
     "start_time": "2018-04-11T07:16:43.714651Z"
    },
    "collapsed": true
   },
   "outputs": [],
   "source": [
    "index = 1\n",
    "hdr  = rec_array[index].header\n",
    "data = rec_array[index].data"
   ]
  },
  {
   "cell_type": "code",
   "execution_count": 6,
   "metadata": {
    "ExecuteTime": {
     "end_time": "2018-04-11T07:16:43.773797Z",
     "start_time": "2018-04-11T07:16:43.761385Z"
    }
   },
   "outputs": [],
   "source": [
    "obj_name = hdr['OBJECT']\n",
    "\n",
    "bjdref = hdr['BJDREFI']\n",
    "start = bjdref+hdr['TSTART']\n",
    "stop  = bjdref+hdr['TSTOP']\n",
    "ndata = len(data)\n",
    "\n",
    "times = np.linspace(start,stop,ndata)"
   ]
  },
  {
   "cell_type": "raw",
   "metadata": {},
   "source": [
    "# see also\n",
    "hdr['GAIN'], hdr['READNOIS']"
   ]
  },
  {
   "cell_type": "markdown",
   "metadata": {},
   "source": [
    "Which exactly is (raw) flux?"
   ]
  },
  {
   "cell_type": "raw",
   "metadata": {
    "ExecuteTime": {
     "end_time": "2018-04-10T15:26:05.120321Z",
     "start_time": "2018-04-10T15:26:05.054115Z"
    }
   },
   "source": [
    "for i in range(len(data)):\n",
    "    print(i)\n",
    "    for j in np.arange(3,6,1):\n",
    "        print(data[i][j].shape)"
   ]
  },
  {
   "cell_type": "markdown",
   "metadata": {},
   "source": [
    "What is the difference between index 3,4,5?"
   ]
  },
  {
   "cell_type": "code",
   "execution_count": 7,
   "metadata": {
    "ExecuteTime": {
     "end_time": "2018-04-11T07:16:44.185999Z",
     "start_time": "2018-04-11T07:16:43.778813Z"
    },
    "collapsed": true
   },
   "outputs": [],
   "source": [
    "index = 3 #3,4,5\n",
    "\n",
    "shape = data[0][index].shape\n",
    "h,w = shape[0], shape[1]\n",
    "\n",
    "fluxes = np.zeros((len(data),h,w))\n",
    "\n",
    "for i in range(len(data)):\n",
    "    fluxes[i,:,:] = data[i][index]"
   ]
  },
  {
   "cell_type": "code",
   "execution_count": 8,
   "metadata": {
    "ExecuteTime": {
     "end_time": "2018-04-11T07:16:44.195820Z",
     "start_time": "2018-04-11T07:16:44.189292Z"
    }
   },
   "outputs": [
    {
     "data": {
      "text/plain": [
       "(3888, 13, 12)"
      ]
     },
     "execution_count": 8,
     "metadata": {},
     "output_type": "execute_result"
    }
   ],
   "source": [
    "fluxes.shape"
   ]
  },
  {
   "cell_type": "code",
   "execution_count": 10,
   "metadata": {
    "ExecuteTime": {
     "end_time": "2018-04-11T07:16:56.990802Z",
     "start_time": "2018-04-11T07:16:56.134748Z"
    }
   },
   "outputs": [
    {
     "name": "stdout",
     "output_type": "stream",
     "text": [
      "Analyzing EPIC 251319382...\n",
      "\n"
     ]
    }
   ],
   "source": [
    "import sys\n",
    "sys.path.append('../K2tools')\n",
    "from utils import *\n",
    "\n",
    "times, fluxes = tpf2pix(fname,index=3)"
   ]
  },
  {
   "cell_type": "code",
   "execution_count": 11,
   "metadata": {
    "ExecuteTime": {
     "end_time": "2018-04-11T07:16:56.997921Z",
     "start_time": "2018-04-11T07:16:56.993415Z"
    }
   },
   "outputs": [
    {
     "data": {
      "text/plain": [
       "(3888, 13, 12)"
      ]
     },
     "execution_count": 11,
     "metadata": {},
     "output_type": "execute_result"
    }
   ],
   "source": [
    "fluxes.shape"
   ]
  },
  {
   "cell_type": "markdown",
   "metadata": {},
   "source": [
    "Comparing with lightkurve.KeplerTargetPixelFile"
   ]
  },
  {
   "cell_type": "code",
   "execution_count": 12,
   "metadata": {
    "ExecuteTime": {
     "end_time": "2018-04-11T07:16:58.190866Z",
     "start_time": "2018-04-11T07:16:57.835042Z"
    },
    "collapsed": true
   },
   "outputs": [],
   "source": [
    "from lightkurve import KeplerTargetPixelFile\n",
    "\n",
    "tpf = KeplerTargetPixelFile(fname, quality_bitmask='hardest')"
   ]
  },
  {
   "cell_type": "code",
   "execution_count": 13,
   "metadata": {
    "ExecuteTime": {
     "end_time": "2018-04-11T07:16:58.303416Z",
     "start_time": "2018-04-11T07:16:58.295482Z"
    }
   },
   "outputs": [
    {
     "data": {
      "text/plain": [
       "(3888, 13, 12)"
      ]
     },
     "execution_count": 13,
     "metadata": {},
     "output_type": "execute_result"
    }
   ],
   "source": [
    "tpf.flux.shape"
   ]
  },
  {
   "cell_type": "code",
   "execution_count": 14,
   "metadata": {
    "ExecuteTime": {
     "end_time": "2018-04-11T07:16:58.802810Z",
     "start_time": "2018-04-11T07:16:58.756760Z"
    }
   },
   "outputs": [],
   "source": [
    "aper_rad = 5\n",
    "irregular_mask = make_mask(fluxes,cutoff_limit=1.0,shape='irregular')\n",
    "round_mask  = make_mask(fluxes,rad=aper_rad,shape='round')\n",
    "square_mask = make_mask(fluxes,rad=aper_rad,shape='square')"
   ]
  },
  {
   "cell_type": "code",
   "execution_count": 15,
   "metadata": {
    "ExecuteTime": {
     "end_time": "2018-04-11T07:16:59.371754Z",
     "start_time": "2018-04-11T07:16:59.314716Z"
    },
    "collapsed": true
   },
   "outputs": [],
   "source": [
    "lc = tpf.to_lightcurve(aperture_mask='all');"
   ]
  },
  {
   "cell_type": "code",
   "execution_count": 16,
   "metadata": {
    "ExecuteTime": {
     "end_time": "2018-04-11T07:17:00.294065Z",
     "start_time": "2018-04-11T07:16:59.773410Z"
    }
   },
   "outputs": [
    {
     "data": {
      "image/png": "[encoded data removed]",
      "text/plain": [
       "<Figure size 432x288 with 1 Axes>"
      ]
     },
     "metadata": {},
     "output_type": "display_data"
    }
   ],
   "source": [
    "flat_lc, trend = lc.flatten(window_length=301, return_trend=True)\n",
    "\n",
    "ax = lc.plot()                         \n",
    "trend.plot(ax, color='red');"
   ]
  },
  {
   "cell_type": "code",
   "execution_count": 17,
   "metadata": {
    "ExecuteTime": {
     "end_time": "2018-04-11T07:17:02.062815Z",
     "start_time": "2018-04-11T07:17:00.529396Z"
    }
   },
   "outputs": [
    {
     "data": {
      "image/png": "[encoded data removed]",
      "text/plain": [
       "<Figure size 432x288 with 1 Axes>"
      ]
     },
     "metadata": {},
     "output_type": "display_data"
    }
   ],
   "source": [
    "centroids, centroid_mask = get_centroids(fluxes, centroid_shift=0.2,\n",
    "                                         check_outliers=True, showfig=True)"
   ]
  },
  {
   "cell_type": "code",
   "execution_count": 18,
   "metadata": {
    "ExecuteTime": {
     "end_time": "2018-04-11T07:17:03.936474Z",
     "start_time": "2018-04-11T07:17:02.072065Z"
    }
   },
   "outputs": [
    {
     "data": {
      "image/png": "[encoded data removed]",
      "text/plain": [
       "<Figure size 432x288 with 1 Axes>"
      ]
     },
     "metadata": {},
     "output_type": "display_data"
    }
   ],
   "source": [
    "method = 'abs_distance'\n",
    "\n",
    "times, fluxes = tpf2pix(fname,index=3,verbose=False)\n",
    "centroids, centroid_mask = get_centroids(fluxes,  centroid_shift=0.2, method=method,\n",
    "                                         check_outliers=True, showfig=True)"
   ]
  },
  {
   "cell_type": "code",
   "execution_count": 19,
   "metadata": {
    "ExecuteTime": {
     "end_time": "2018-04-11T07:17:05.343737Z",
     "start_time": "2018-04-11T07:17:03.939909Z"
    }
   },
   "outputs": [],
   "source": [
    "df = pix2lc(times,fluxes,aper_rad=5,aper_shape='round',\n",
    "           cutoff_limit=1.0,centroid_shift=0.2,method=method)"
   ]
  },
  {
   "cell_type": "code",
   "execution_count": 20,
   "metadata": {
    "ExecuteTime": {
     "end_time": "2018-04-11T07:17:06.735148Z",
     "start_time": "2018-04-11T07:17:05.346630Z"
    },
    "collapsed": true
   },
   "outputs": [],
   "source": [
    "df = pix2lc(times,fluxes,aper_rad=5,aper_shape='round',\n",
    "           cutoff_limit=1.0,centroid_shift=0.2,method=method)"
   ]
  },
  {
   "cell_type": "code",
   "execution_count": 21,
   "metadata": {
    "ExecuteTime": {
     "end_time": "2018-04-11T07:17:07.003942Z",
     "start_time": "2018-04-11T07:17:06.737519Z"
    }
   },
   "outputs": [
    {
     "data": {
      "text/plain": [
       "<matplotlib.axes._subplots.AxesSubplot at 0x7fa15d319da0>"
      ]
     },
     "execution_count": 21,
     "metadata": {},
     "output_type": "execute_result"
    },
    {
     "data": {
      "image/png": "[encoded data removed]",
      "text/plain": [
       "<Figure size 432x288 with 1 Axes>"
      ]
     },
     "metadata": {},
     "output_type": "display_data"
    }
   ],
   "source": [
    "df.set_index('time')['flux'].plot(marker='o')"
   ]
  },
  {
   "cell_type": "code",
   "execution_count": null,
   "metadata": {
    "collapsed": true
   },
   "outputs": [],
   "source": []
  },
  {
   "cell_type": "code",
   "execution_count": null,
   "metadata": {
    "collapsed": true
   },
   "outputs": [],
   "source": []
  },
  {
   "cell_type": "code",
   "execution_count": null,
   "metadata": {
    "collapsed": true
   },
   "outputs": [],
   "source": []
  },
  {
   "cell_type": "code",
   "execution_count": 72,
   "metadata": {
    "ExecuteTime": {
     "end_time": "2018-04-10T15:27:30.104569Z",
     "start_time": "2018-04-10T15:27:28.495143Z"
    },
    "scrolled": false
   },
   "outputs": [
    {
     "data": {
      "image/png": "[encoded data removed]",
      "text/plain": [
       "<Figure size 288x312 with 1 Axes>"
      ]
     },
     "metadata": {},
     "output_type": "display_data"
    },
    {
     "data": {
      "image/png": "[encoded data removed]",
      "text/plain": [
       "<Figure size 288x312 with 1 Axes>"
      ]
     },
     "metadata": {},
     "output_type": "display_data"
    },
    {
     "data": {
      "image/png": "[encoded data removed]",
      "text/plain": [
       "<Figure size 288x312 with 1 Axes>"
      ]
     },
     "metadata": {},
     "output_type": "display_data"
    },
    {
     "data": {
      "image/png": "[encoded data removed]",
      "text/plain": [
       "<Figure size 288x312 with 1 Axes>"
      ]
     },
     "metadata": {},
     "output_type": "display_data"
    },
    {
     "data": {
      "image/png": "[encoded data removed]",
      "text/plain": [
       "<Figure size 288x312 with 1 Axes>"
      ]
     },
     "metadata": {},
     "output_type": "display_data"
    },
    {
     "data": {
      "image/png": "[encoded data removed]",
      "text/plain": [
       "<Figure size 288x312 with 1 Axes>"
      ]
     },
     "metadata": {},
     "output_type": "display_data"
    },
    {
     "data": {
      "image/png": "[encoded data removed]",
      "text/plain": [
       "<Figure size 288x312 with 1 Axes>"
      ]
     },
     "metadata": {},
     "output_type": "display_data"
    },
    {
     "data": {
      "image/png": "[encoded data removed]",
      "text/plain": [
       "<Figure size 288x312 with 1 Axes>"
      ]
     },
     "metadata": {},
     "output_type": "display_data"
    },
    {
     "data": {
      "image/png": "[encoded data removed]",
      "text/plain": [
       "<Figure size 288x312 with 1 Axes>"
      ]
     },
     "metadata": {},
     "output_type": "display_data"
    }
   ],
   "source": [
    "for i in np.arange(3,6,1):\n",
    "    for j in np.arange(3,6,1):\n",
    "        try:\n",
    "            pl.matshow(data[i][j])\n",
    "        except:\n",
    "            print('skipping index={}'.format(i))"
   ]
  },
  {
   "cell_type": "code",
   "execution_count": null,
   "metadata": {
    "collapsed": true
   },
   "outputs": [],
   "source": []
  },
  {
   "cell_type": "code",
   "execution_count": null,
   "metadata": {
    "collapsed": true
   },
   "outputs": [],
   "source": []
  },
  {
   "cell_type": "code",
   "execution_count": null,
   "metadata": {
    "collapsed": true
   },
   "outputs": [],
   "source": []
  }
 ],
 "metadata": {
  "kernelspec": {
   "display_name": "Python 3",
   "language": "python",
   "name": "python3"
  },
  "language_info": {
   "codemirror_mode": {
    "name": "ipython",
    "version": 3
   },
   "file_extension": ".py",
   "mimetype": "text/x-python",
   "name": "python",
   "nbconvert_exporter": "python",
   "pygments_lexer": "ipython3",
   "version": "3.6.1"
  }
 },
 "nbformat": 4,
 "nbformat_minor": 2
}
